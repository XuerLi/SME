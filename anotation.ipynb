{
  "nbformat": 4,
  "nbformat_minor": 0,
  "metadata": {
    "colab": {
      "provenance": [],
      "authorship_tag": "ABX9TyNT11I2BiIAX+eYuBLUW8Pk",
      "include_colab_link": true
    },
    "kernelspec": {
      "name": "python3",
      "display_name": "Python 3"
    },
    "language_info": {
      "name": "python"
    }
  },
  "cells": [
    {
      "cell_type": "markdown",
      "metadata": {
        "id": "view-in-github",
        "colab_type": "text"
      },
      "source": [
        "<a href=\"https://colab.research.google.com/github/XuerLi/SME/blob/master/anotation.ipynb\" target=\"_parent\"><img src=\"https://colab.research.google.com/assets/colab-badge.svg\" alt=\"Open In Colab\"/></a>"
      ]
    },
    {
      "cell_type": "code",
      "execution_count": 1,
      "metadata": {
        "id": "u4vqN-b-MPyR",
        "colab": {
          "base_uri": "https://localhost:8080/"
        },
        "outputId": "589bf69c-8f55-4a1e-8683-7d779432fec8"
      },
      "outputs": [
        {
          "output_type": "stream",
          "name": "stdout",
          "text": [
            "Mounted at /content/gdrive\n"
          ]
        }
      ],
      "source": [
        "from google.colab import drive\n",
        "drive.mount('/content/gdrive')"
      ]
    },
    {
      "cell_type": "code",
      "source": [
        "!apt-get install python 3.10\n",
        "!pip install streamlit==1.14.0\n"
      ],
      "metadata": {
        "id": "hediW5x6Mc3s",
        "colab": {
          "base_uri": "https://localhost:8080/"
        },
        "outputId": "964ae646-1d1e-4a88-f3b3-539ed39bcafa"
      },
      "execution_count": 2,
      "outputs": [
        {
          "output_type": "stream",
          "name": "stdout",
          "text": [
            "Installing collected packages: smmap, gitdb, commonmark, watchdog, validators, semver, rich, pympler, pydeck, gitpython, blinker, streamlit\n",
            "Successfully installed blinker-1.5 commonmark-0.9.1 gitdb-4.0.9 gitpython-3.1.29 pydeck-0.8.0 pympler-1.0.1 rich-12.6.0 semver-2.13.0 smmap-5.0.0 streamlit-1.14.0 validators-0.20.0 watchdog-2.1.9\n"
          ]
        }
      ]
    },
    {
      "cell_type": "code",
      "source": [],
      "metadata": {
        "colab": {
          "base_uri": "https://localhost:8080/"
        },
        "id": "GLBi1iLTJ9Fq",
        "outputId": "34f2b544-fe51-43ae-c5da-c3b0428e8091"
      },
      "execution_count": null,
      "outputs": [
        {
          "output_type": "stream",
          "name": "stdout",
          "text": [
            "  Building wheel for validators (setup.py) ... \u001b[?25l\u001b[?25hdone\n",
            "  Created wheel for validators: filename=validators-0.20.0-py3-none-any.whl size=19615 sha256=df4969ba0682bbbaa8e838aa892cd23a0f0cf2765ffb6f35793e3d315ad7274b\n",
            "  Stored in directory: /root/.cache/pip/wheels/5f/55/ab/36a76989f7f88d9ca7b1f68da6d94252bb6a8d6ad4f18e04e9\n",
            "Successfully built validators\n",
            "Installing collected packages: smmap, gitdb, commonmark, watchdog, validators, semver, rich, pympler, pydeck, gitpython, blinker, streamlit\n",
            "Successfully installed blinker-1.5 commonmark-0.9.1 gitdb-4.0.9 gitpython-3.1.29 pydeck-0.8.0 pympler-1.0.1 rich-12.6.0 semver-2.13.0 smmap-5.0.0 streamlit-1.14.0 validators-0.20.0 watchdog-2.1.9\n"
          ]
        }
      ]
    },
    {
      "cell_type": "code",
      "source": [
        "InpDataPath = '/content/gdrive/MyDrive/Colab Notebooks/Misinformation detection on CCC/data annotation'\n",
        "%cd '/content/gdrive/MyDrive/Colab Notebooks/Misinformation detection on CCC/data annotation'"
      ],
      "metadata": {
        "id": "rvIIGBKXMrhw",
        "colab": {
          "base_uri": "https://localhost:8080/"
        },
        "outputId": "d1497b76-553f-4ff6-88cc-36fcbc84736d"
      },
      "execution_count": 3,
      "outputs": [
        {
          "output_type": "stream",
          "name": "stdout",
          "text": [
            "/content/gdrive/MyDrive/Colab Notebooks/Misinformation detection on CCC/data annotation\n"
          ]
        }
      ]
    },
    {
      "cell_type": "markdown",
      "source": [
        "Write app"
      ],
      "metadata": {
        "id": "WAs0lBYDOTyn"
      }
    },
    {
      "cell_type": "code",
      "source": [
        "%%writefile annotation.py\n",
        "import streamlit as st\n",
        "import pandas as pd\n",
        "from time import sleep\n",
        "import os\n",
        "\n",
        "st.set_page_config(\n",
        "    page_title=\"Ex-stream-ly Cool App\",\n",
        "    page_icon=\"🧊\",\n",
        "    layout=\"wide\",\n",
        "    initial_sidebar_state=\"expanded\",\n",
        "    menu_items={\n",
        "        'Get Help': 'https://www.extremelycoolapp.com/help',\n",
        "        'Report a bug': \"https://www.extremelycoolapp.com/bug\",\n",
        "        'About': \"# This is a header. This is an *extremely* cool app!\"\n",
        "    }\n",
        ")\n",
        "\n",
        "\n",
        "InpDataPath = '/content/gdrive/MyDrive/Colab Notebooks/Misinformation detection on CCC/data annotation'\n",
        "inputFile = os.path.join(InpDataPath, 'Copy of reddit_key_v1.csv')\n",
        "df = pd.read_csv(inputFile)\n",
        "dfOut = pd.DataFrame()\n",
        "def make_ordinal(n):\n",
        "    '''\n",
        "    Convert an integer into its ordinal representation::\n",
        "\n",
        "        make_ordinal(0)   => '0th'\n",
        "        make_ordinal(3)   => '3rd'\n",
        "        make_ordinal(122) => '122nd'\n",
        "        make_ordinal(213) => '213th'\n",
        "    '''\n",
        "    n = int(n)\n",
        "    if 11 <= (n % 100) <= 13:\n",
        "        suffix = 'th'\n",
        "    else:\n",
        "        suffix = ['th', 'st', 'nd', 'rd', 'th'][min(n % 10, 4)]\n",
        "    return str(n) + suffix\n",
        "\n",
        "def newPage():\n",
        "    page.empty()\n",
        "    if 'ser' in st.session_state:    \n",
        "        with page.container():\n",
        "            st.session_state.ser += 1\n",
        "            print(str(st.session_state.ser))\n",
        "\n",
        "st.title('Annotation for Counterfactual Claims')  \n",
        "st.text_input(\"Your Name\", key=\"name\")\n",
        "\n",
        "\n",
        "\n",
        "\n",
        "page = st.empty()\n",
        "if 'ser' not in st.session_state:    \n",
        "    st.session_state.ser = 0\n",
        "    st.header('Annotate the first claim.')\n",
        "        \n",
        "if st.session_state.ser > len(df):\n",
        "    st.success('No claims to annoate. Thank you for participating.')\n",
        "    with st.form(\"Feedbacks\"):\n",
        "        st.text_area(\"Please leave your feedbacks here, thanks.\",height=None)\n",
        "        submitted = st.form_submit_button(\"Submit\")\n",
        "\n",
        "with page.container():\n",
        "    i = st.session_state.ser\n",
        "    antKey = \"Ant_\"+str(i)\n",
        "    cnsKey = \"Cons_\"+str(i)\n",
        "    radioKey = \"radio_\" +str(i)\n",
        "    quitKey = 'quit_'+str(i)\n",
        "    resKey = 'resub_' + str(i)\n",
        "    sliderKey = 'slider_' + str(i)\n",
        "    nextButtonKey = 'nextButton_' + str(i)\n",
        "    nextButtonKey = 'nextButton_' + str(i)\n",
        "    nextButtonKey = 'nextButton_' + str(i)\n",
        "    #st.header('Annotate the '+ + ' claim.')\n",
        "    claim =  df.iloc[i]['text']\n",
        "    st.text_area('The ' + make_ordinal(i+1) +' claim to annotate ', claim)\n",
        "\n",
        "    st.session_state.cat = st.radio(\"Pick One\", ['Not Sure', 'Is a Counterfactual Claim', 'Not a Counterfactual Claim'], \n",
        "                    key = radioKey, horizontal = True)\n",
        "    x = st.slider('Confident', key = sliderKey)  # 👈 this is a widget\n",
        "        \n",
        "    if st.session_state.cat == 'Is a Counterfactual Claim':\n",
        "        st.text_input(\"Antecedent in the claim\", key=antKey)\n",
        "        st.text_input(\"Consquent in the claim\", key=cnsKey)\n",
        "\n",
        "    else:\n",
        "        if antKey in st.session_state.keys():\n",
        "            del st.session_state[antKey]\n",
        "        if cnsKey in st.session_state.keys():\n",
        "            del st.session_state[cnsKey]\n",
        "    c1, c2 = st.columns(2)\n",
        "    with c1:\n",
        "        next = st.button('Next', on_click= newPage, key = nextButtonKey, help= \"Go to the next claim, and your current annotation will be recorded.\")\n",
        "    with c2:\n",
        "        quit = st.button('Quit', key = quitKey, help= \"Go to the next claim, and your current annotation will be recorded.\")\n",
        "    if next:\n",
        "        if st.session_state.cat == 'Is a Counterfactual Claim':\n",
        "            dfOut = dfOut.append({'text': claim, \n",
        "                            'Antecedent': st.session_state[antKey] if antKey in st.session_state.keys() else '',\n",
        "                            'Consquent': st.session_state[cnsKey] if cnsKey in st.session_state.keys() else '',\n",
        "                            'Annotator': st.session_state.name}, \n",
        "                        ignore_index=True)\n",
        "            dfOut.to_csv('counterfactual.csv')\n",
        "\n",
        "    if quit:\n",
        "        st.write('quit')\n",
        "        df2 = df.tail(df.shape[0] -i)\n",
        "        df2.to_csv(os.path.join(InpDataPath, 'rest.csv'))\n",
        "        with st.form(\"Feedbacks\"):\n",
        "            st.text_area(\"Please leave your feedbacks here, thanks.\",height=None)\n",
        "            submitted = st.form_submit_button(\"Submit\")\n",
        "        st.write('BYE')\n",
        "        st.stop()\n"
      ],
      "metadata": {
        "colab": {
          "base_uri": "https://localhost:8080/"
        },
        "id": "G5nSn9ASMoBZ",
        "outputId": "5fb4c36e-a1a4-4bba-a36e-f5a8a4df212a"
      },
      "execution_count": 76,
      "outputs": [
        {
          "output_type": "stream",
          "name": "stdout",
          "text": [
            "Overwriting annotation.py\n"
          ]
        }
      ]
    },
    {
      "cell_type": "code",
      "source": [
        "!streamlit run annotation.py & npx localtunnel --port 8501"
      ],
      "metadata": {
        "colab": {
          "base_uri": "https://localhost:8080/"
        },
        "id": "usxO3XASMttv",
        "outputId": "38883ff4-0a71-4e3d-c7bf-c97bce663ffe"
      },
      "execution_count": 75,
      "outputs": [
        {
          "output_type": "stream",
          "name": "stdout",
          "text": [
            "[#######...........] / extract:localtunnel: verb lock using /root/.npm/_locks/s\u001b[0m\u001b[K\n",
            "Collecting usage statistics. To deactivate, set browser.gatherUsageStats to False.\n",
            "\u001b[0m\n",
            "\u001b[K\u001b[?25hnpx: installed 22 in 2.838s\n",
            "\u001b[0m\n",
            "\u001b[34m\u001b[1m  You can now view your Streamlit app in your browser.\u001b[0m\n",
            "\u001b[0m\n",
            "\u001b[34m  Network URL: \u001b[0m\u001b[1mhttp://172.28.0.2:8501\u001b[0m\n",
            "\u001b[34m  External URL: \u001b[0m\u001b[1mhttp://34.125.221.114:8501\u001b[0m\n",
            "\u001b[0m\n",
            "your url is: https://upset-maps-sneeze-34-125-221-114.loca.lt\n",
            "1\n",
            "2\n",
            "3\n",
            "\u001b[34m  Stopping...\u001b[0m\n",
            "^C\n"
          ]
        }
      ]
    },
    {
      "cell_type": "code",
      "source": [],
      "metadata": {
        "id": "RkdOVT7SZbKC"
      },
      "execution_count": null,
      "outputs": []
    },
    {
      "cell_type": "code",
      "source": [],
      "metadata": {
        "colab": {
          "base_uri": "https://localhost:8080/"
        },
        "id": "2wjehbqC0JsP",
        "outputId": "deeb332e-eaa0-4fe9-f704-0425e1caf34b"
      },
      "execution_count": null,
      "outputs": [
        {
          "output_type": "stream",
          "name": "stdout",
          "text": [
            "Overwriting annotation.py\n"
          ]
        }
      ]
    },
    {
      "cell_type": "code",
      "source": [
        "%%writefile annotation.py\n",
        "import streamlit as st\n",
        "import pandas as pd\n",
        "import os\n",
        "\n",
        "from time import sleep\n",
        "x = 'It was the best of times, it was the worst of times, it was'\n",
        "txt = st.text_area('Text to analyze', x)"
      ],
      "metadata": {
        "colab": {
          "base_uri": "https://localhost:8080/"
        },
        "id": "e9NJjXNJnNxF",
        "outputId": "5cfe2c50-1db4-4c2c-c546-50e72ae45782"
      },
      "execution_count": 64,
      "outputs": [
        {
          "output_type": "stream",
          "name": "stdout",
          "text": [
            "Overwriting annotation.py\n"
          ]
        }
      ]
    },
    {
      "cell_type": "code",
      "source": [
        "import pandas as pd\n",
        "df = pd.DataFrame()"
      ],
      "metadata": {
        "id": "YdohHGBHy7KZ"
      },
      "execution_count": null,
      "outputs": []
    },
    {
      "cell_type": "code",
      "source": [
        "df =df.append({'awe':'et'},ignore_index=True)"
      ],
      "metadata": {
        "id": "VAjxLobGKoq3"
      },
      "execution_count": null,
      "outputs": []
    },
    {
      "cell_type": "code",
      "source": [
        "df =df.append({'awe':'e222t'},ignore_index=True)"
      ],
      "metadata": {
        "id": "tw-D6-9kK6sT"
      },
      "execution_count": null,
      "outputs": []
    },
    {
      "cell_type": "code",
      "source": [
        "st"
      ],
      "metadata": {
        "colab": {
          "base_uri": "https://localhost:8080/",
          "height": 143
        },
        "id": "F8jD4zeRK7Hl",
        "outputId": "e27500a6-9be5-404c-ac6f-30e280773e0c"
      },
      "execution_count": null,
      "outputs": [
        {
          "output_type": "execute_result",
          "data": {
            "text/plain": [
              "  awe\n",
              "0   e\n",
              "1   e\n",
              "2   e"
            ],
            "text/html": [
              "\n",
              "  <div id=\"df-9ea1fd21-ec66-4869-898b-fb389ee13c8d\">\n",
              "    <div class=\"colab-df-container\">\n",
              "      <div>\n",
              "<style scoped>\n",
              "    .dataframe tbody tr th:only-of-type {\n",
              "        vertical-align: middle;\n",
              "    }\n",
              "\n",
              "    .dataframe tbody tr th {\n",
              "        vertical-align: top;\n",
              "    }\n",
              "\n",
              "    .dataframe thead th {\n",
              "        text-align: right;\n",
              "    }\n",
              "</style>\n",
              "<table border=\"1\" class=\"dataframe\">\n",
              "  <thead>\n",
              "    <tr style=\"text-align: right;\">\n",
              "      <th></th>\n",
              "      <th>awe</th>\n",
              "    </tr>\n",
              "  </thead>\n",
              "  <tbody>\n",
              "    <tr>\n",
              "      <th>0</th>\n",
              "      <td>e</td>\n",
              "    </tr>\n",
              "    <tr>\n",
              "      <th>1</th>\n",
              "      <td>e</td>\n",
              "    </tr>\n",
              "    <tr>\n",
              "      <th>2</th>\n",
              "      <td>e</td>\n",
              "    </tr>\n",
              "  </tbody>\n",
              "</table>\n",
              "</div>\n",
              "      <button class=\"colab-df-convert\" onclick=\"convertToInteractive('df-9ea1fd21-ec66-4869-898b-fb389ee13c8d')\"\n",
              "              title=\"Convert this dataframe to an interactive table.\"\n",
              "              style=\"display:none;\">\n",
              "        \n",
              "  <svg xmlns=\"http://www.w3.org/2000/svg\" height=\"24px\"viewBox=\"0 0 24 24\"\n",
              "       width=\"24px\">\n",
              "    <path d=\"M0 0h24v24H0V0z\" fill=\"none\"/>\n",
              "    <path d=\"M18.56 5.44l.94 2.06.94-2.06 2.06-.94-2.06-.94-.94-2.06-.94 2.06-2.06.94zm-11 1L8.5 8.5l.94-2.06 2.06-.94-2.06-.94L8.5 2.5l-.94 2.06-2.06.94zm10 10l.94 2.06.94-2.06 2.06-.94-2.06-.94-.94-2.06-.94 2.06-2.06.94z\"/><path d=\"M17.41 7.96l-1.37-1.37c-.4-.4-.92-.59-1.43-.59-.52 0-1.04.2-1.43.59L10.3 9.45l-7.72 7.72c-.78.78-.78 2.05 0 2.83L4 21.41c.39.39.9.59 1.41.59.51 0 1.02-.2 1.41-.59l7.78-7.78 2.81-2.81c.8-.78.8-2.07 0-2.86zM5.41 20L4 18.59l7.72-7.72 1.47 1.35L5.41 20z\"/>\n",
              "  </svg>\n",
              "      </button>\n",
              "      \n",
              "  <style>\n",
              "    .colab-df-container {\n",
              "      display:flex;\n",
              "      flex-wrap:wrap;\n",
              "      gap: 12px;\n",
              "    }\n",
              "\n",
              "    .colab-df-convert {\n",
              "      background-color: #E8F0FE;\n",
              "      border: none;\n",
              "      border-radius: 50%;\n",
              "      cursor: pointer;\n",
              "      display: none;\n",
              "      fill: #1967D2;\n",
              "      height: 32px;\n",
              "      padding: 0 0 0 0;\n",
              "      width: 32px;\n",
              "    }\n",
              "\n",
              "    .colab-df-convert:hover {\n",
              "      background-color: #E2EBFA;\n",
              "      box-shadow: 0px 1px 2px rgba(60, 64, 67, 0.3), 0px 1px 3px 1px rgba(60, 64, 67, 0.15);\n",
              "      fill: #174EA6;\n",
              "    }\n",
              "\n",
              "    [theme=dark] .colab-df-convert {\n",
              "      background-color: #3B4455;\n",
              "      fill: #D2E3FC;\n",
              "    }\n",
              "\n",
              "    [theme=dark] .colab-df-convert:hover {\n",
              "      background-color: #434B5C;\n",
              "      box-shadow: 0px 1px 3px 1px rgba(0, 0, 0, 0.15);\n",
              "      filter: drop-shadow(0px 1px 2px rgba(0, 0, 0, 0.3));\n",
              "      fill: #FFFFFF;\n",
              "    }\n",
              "  </style>\n",
              "\n",
              "      <script>\n",
              "        const buttonEl =\n",
              "          document.querySelector('#df-9ea1fd21-ec66-4869-898b-fb389ee13c8d button.colab-df-convert');\n",
              "        buttonEl.style.display =\n",
              "          google.colab.kernel.accessAllowed ? 'block' : 'none';\n",
              "\n",
              "        async function convertToInteractive(key) {\n",
              "          const element = document.querySelector('#df-9ea1fd21-ec66-4869-898b-fb389ee13c8d');\n",
              "          const dataTable =\n",
              "            await google.colab.kernel.invokeFunction('convertToInteractive',\n",
              "                                                     [key], {});\n",
              "          if (!dataTable) return;\n",
              "\n",
              "          const docLinkHtml = 'Like what you see? Visit the ' +\n",
              "            '<a target=\"_blank\" href=https://colab.research.google.com/notebooks/data_table.ipynb>data table notebook</a>'\n",
              "            + ' to learn more about interactive tables.';\n",
              "          element.innerHTML = '';\n",
              "          dataTable['output_type'] = 'display_data';\n",
              "          await google.colab.output.renderOutput(dataTable, element);\n",
              "          const docLink = document.createElement('div');\n",
              "          docLink.innerHTML = docLinkHtml;\n",
              "          element.appendChild(docLink);\n",
              "        }\n",
              "      </script>\n",
              "    </div>\n",
              "  </div>\n",
              "  "
            ]
          },
          "metadata": {},
          "execution_count": 224
        }
      ]
    }
  ]
}